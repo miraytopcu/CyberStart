{
 "cells": [
  {
   "cell_type": "markdown",
   "metadata": {},
   "source": [
    "Bulut bilişim, bilgileri bir bilgisayarın sabit disk sürücüsü yerine İnternet üzerinde depolar ve işler.\n",
    "\n",
    "Bunu neden yapmalısınız? \n",
    "Çünkü bulut, yerel depolamaya ve bilgisayarlara bağımlı olmak yerine çevrimdışı bilişim kaynaklarını paylaşarak,\n",
    "iki şeyi başarabilir:\n",
    "\n",
    "1) Çok daha yüksek miktarda bilgiyi çok daha hızlı bir biçimde depolayabilir ve işleyebilir.\n",
    "2) Sonuçları yalnızca tek bir telefona, tablete, bilgisayara ya da bir dizi yerel terminale değil, \n",
    "İnternete bağlanabilen herhangi bir aygıta aktarabilir.\n",
    "\n",
    "- Fiziksel sunucu, bir kullanıcı grubu ya da veri türü için özel olarak ayrılmış bir sabit disk sürücüsü veya\n",
    "bellek yuvasıdır.\n",
    "- Sanal sunucu, pastanın tek bir dilimidir: Diğer bölgeleri diğer kullanıcılar tarafından paylaşılan bir \n",
    "fiziksel sunucu üzerinde yazılım tarafından kontrol edilen bir bölgedir. Bu paylaşımın tek bir fiziksel \n",
    "sunucuyu çok sayıda sanal sunucuya bölmesi nedeniyle, buna sanallaştırma adı verilir.\n",
    "\n",
    "#### Devreye Alma Modeli\n",
    "- Özel Bulut\n",
    "- Genel Bulut\n",
    "- Hibrit Bulut \n",
    "\n",
    "Genel bulutlar, depolama ve bilgi işlem alanını paylaşır.\n",
    "Özel bulutlar, tek bir kuruluşun bilgilerini korur.\n",
    "Hibrit bulutlar, depolamalarını özel dilimlere ayırır.\n",
    "\n",
    "![Image](https://bundles.yourlearning.ibm.com/skills/learn/assets/MKRXDYVNVPRW32K4/cloud_cloudDeploymentOptions_TK.png)\n",
    "\n"
   ]
  },
  {
   "cell_type": "markdown",
   "metadata": {},
   "source": [
    "Herhangi bir geleneksel hizmet, bulut aracılığıyla sağlanabilir. Bu kavram, hizmet olarak sunulan her şey ya da XaaS olarak anılır.\n",
    "\n",
    "Şimdi, bulut bilişimin en popüler üç hizmet modelini karşılaştıralım: hizmet olarak sunulan yazılım (SaaS), hizmet olarak sunulan platform (PaaS) hizmet olarak sunulan altyapı (IaaS).\n",
    "\n",
    "![Image](https://bundles.yourlearning.ibm.com/skills/learn/assets/XVZDQWYQPKPN42RJ/cloud_cloudAsAService_TK.png)"
   ]
  },
  {
   "cell_type": "markdown",
   "metadata": {},
   "source": [
    "## Hizmet olarak sunulan yazılım (SaaS)\n",
    "SaaS ile hem yazılımlar hem de veriler çevrimiçi ortamda barındırılır. Kullanıcılar, neredeyse her tür işletim sistemi üzerindeki neredeyse her tür aygıtı kullanarak bir tarayıcıda oturum açabilir, ihtiyaç duydukları şeyleri girebilir ve anında sonuç alabilirler. Kuruluşlarının SaaS'yi kullanmak için özel yazılımlara ihtiyacı olmadığından, uygulama satın almaları gerekmez. Bunun yerine, hizmete yıllık ya da kullanıcı başına abonelik ücreti öderler.\n",
    "\n",
    "SaaS'yi bir başkasının mutfağı olarak düşünebilirsiniz. Çevrimiçi olursunuz ve siparişinizi verirsiniz. Size tarifi verirler, yemeği pişirirler ve size sunarlar.\n",
    "\n",
    "SaaS ifadesini duyduğunuzda, e-posta veya çevrimiçi alışveriş gibi kullanım biçimlerini düşünün.\n",
    "\n",
    "## Hizmet olarak sunulan platform (PaaS)\n",
    "Satıcı firma, PaaS ile yalnızca platformu sağlar; yani, altyapıyı, işletim sistemlerini, depolamayı ve kodun büyük bir kısmını sağlar. Uygulamanın kaynaklarını ve verileri kullanıcının kuruluşu tarafından yönetilir. (Altyapıya ilişkin daha fazla bilgi için sonraki bölüme bakın.)\n",
    "\n",
    "PaaS'yi bir başkasının mutfağı olarak düşünebilirsiniz. Ancak malzemeleri ve tarifi siz sağlarsınız ve pişirmeyi de siz yaparsınız.\n",
    "\n",
    "PaaS'yi duyduğunuzda, konteynerleri, veritabanlarını, çalıştırma zamanını ve entegrasyonu düşünün.\n",
    "\n",
    "## Hizmet olarak sunulan altyapı (IaaS)\n",
    "Şirketler, kendi uygulamalarını sıfırdan oluşturmak veya BT maliyetlerini düşürmek için mevcut uygulamaları bir veri merkezinden kuruluşa taşımak istediklerinde IaaS'yi tercih ederler. Satıcı firma, IaaS ile donanım, yazılımlar, sunucular ve depolama gibi altyapıyı ve mimariyi sağlarken aynı zamanda yedekleme, güvenlik ve bakım gibi pahalı destek sistemlerini yönetir. Bu, kuruluşun bilişim mimarisinin web üzerinde kalmasını sağlar, böylece farklı lokasyonlardaki ekipler birlikte çalışabilirler ve aynı zamanda uygulama geliştirme de şirketin kendi çevrimiçi yapısı içinde kalır.\n",
    "\n",
    "IaaS'yi kendi mutfağınız olarak düşünebilirsiniz. Burada tarifi kendiniz sağlar ve pişirmeyi de kendiniz yaparsınız. Ancak, beyaz eşyanızın bakımı ve aletlerinizin yönetimi başka biri tarafından sağlanır.\n",
    "\n",
    "IaaS'yi duyduğunuzda, bilişim, depolama ve ağ kaynaklarını düşünün."
   ]
  },
  {
   "cell_type": "markdown",
   "metadata": {},
   "source": [
    "## Çoklu Bulut\n",
    "Birden fazla genel bulutun kullanılmasını ifade eder. Bir şirketin farklı genel bulutlardan farklı hizmetleri seçmesine olanak sağlar. Örneğin şirket; IBM Cloud, Amazon Web Services ve Microsoft Azure gibi birkaç genel IaaS ortamını birlikte kullanabilir ve böylece tek bulut sağlayıcısına bağımlı kalmaz. Çoklu bulut, dikkatli planlama gerektirir! Bunu kullanmayı düşünen kuruluşlar, mimarisi ölçeklenebilen ve şirketin mevcut sistemleriyle entegre edilebilecek bir sağlayıcı aramalıdırlar."
   ]
  },
  {
   "cell_type": "markdown",
   "metadata": {},
   "source": [
    "![Image](https://bundles.yourlearning.ibm.com/skills/learn/assets/YZREVWYVQMQN42QE/Cloud_cloud_environment_IaaS_PaaS_TK.png)"
   ]
  },
  {
   "cell_type": "markdown",
   "metadata": {},
   "source": [
    "# Bulut Bilişim Terminolojisi\n",
    "## Bulut\n",
    "\"Bulut\", bulut bilişimde İnternet için kullanılan bir benzetmedir ve bu bağlamda bulut bilişim ifadesi, bir tür İnternet tabanlı bilişim anlamına gelir. \n",
    "\n",
    "## Bulut hizmetleri\n",
    "Bulut hizmetleri, kullanıcılara İnternet üzerinden isteğe bağlı olarak sağlanan uygulamalar, hizmetler veya kaynaklardır. Aşağıdakiler bunlara örnek gösterilebilir:\n",
    "\n",
    "- Hizmet olarak sunulan altyapı (IaaS)\n",
    "- Hizmet olarak sunulan platform (PaaS)\n",
    "- Hizmet olarak sunulan yazılım (SaaS)\n",
    "- Veri depolama\n",
    "\n",
    "## Kümeler\n",
    "Bilgisayar kümesi, birlikte tek, entegre bir bilgi işlem kaynağı olarak çalışabilen, birbiriyle bağlantılı bağımsız bilgisayarlardan veya sunuculardan oluşan bir toplamadır.\n",
    "\n",
    "## Konteynerler\n",
    "Konteyner, yazılımın işletim ortamları arasında taşınmasına olanak sağlayan bir \"ambalajdır\". Konteynerler, bir işletim sisteminin özgün bir sanal eşgörünümünü yaratır ve bu eşgörünüm, bir uygulamayı aynı ortamdaki diğerlerinden ayırır. Konteynerler, paylaşılan tek bir işletim sistemi içinde bir uygulamanın ayrı eşgörünümlerini çalıştırabilir.\n",
    "\n",
    "## Hibrit bulut\n",
    "Hibrit bulut, birbirinden ayrı olan, ancak verileri veya uygulamaların taşınabilir hale getiren teknoloji aracılığıyla birbirine bağlı olan geleneksel BT ile genel veya özel bulutların (veya her ikisinin) bir birleşimidir.\n",
    "\n",
    "## Hizmet olarak sunulan altyapı (IaaS)\n",
    "\n",
    "\n",
    "## Kubernetes\n",
    "Kubernetes, konteynerli iş yüklerinin ve hizmetlerin yönetilmesi için açık kaynaklı bir platformdur.\n",
    "\n",
    "## Çoklu bulut\n",
    "\n",
    "\n",
    "## Şirket içine karşı şirket dışı\n",
    "Şirket içi, şirket içinde kurulan ve barındırılan bir çözümü ifade eder. Özel bulut, bir şirketin kendi veri merkezinde barındırılır.\n",
    "\n",
    "Farklı bir fiziksel lokasyonda bulunan özel olarak ayrılmış donanım üzerinde barındırılan bir çözüm, şirket dışı olarak anılır.\n",
    "\n",
    "## Hizmet olarak sunulan platform (PaaS)\n",
    "\n",
    "\n",
    "## Özel bulut\n",
    "Özel bulut, yalnızca tek bir kuruluş için işletilen, şirket içindeki veya dışındaki bir bulut altyapısıdır. İlgili kuruluş ya da bir üçüncü kişi tarafından yönetilebilir.\n",
    "\n",
    "## Genel bulut\n",
    "Genel bulut, genel halka ya da büyük bir endüstri grubuna açıktır ve bulut hizmetleri satan bir kuruluşa aittir ve bu kuruluş tarafından yönetilir.\n",
    "\n",
    "## Hizmet olarak sunulan yazılım (SaaS)\n",
    "\n",
    "\n",
    "## Sanallaştırma\n",
    "Sanallaştırma, bir sunucu, masaüstü, depolama aygıtı, işletim sistemi veya ağ kaynakları gibi bir şeyin sanal (gerçek yerine) sürümünün oluşturulmasını ifade eder.\n",
    "\n",
    "## Sanal makine\n",
    "Sanal makine (VM), uygulamaları ve programları çalıştırabilen ayrı bir bilgisayar gibi davranan bir yazılım programı veya işletim sistemidir.\n",
    "\n",
    "## İş yükü\n",
    "İş yükü, bir web sitesinin sunulması gibi, bulut üzerinde çalıştırılacak ayrı bir yetenek ya da bir miktar iştir.\n",
    "\n"
   ]
  }
 ],
 "metadata": {
  "kernelspec": {
   "display_name": "Python 3",
   "language": "python",
   "name": "python3"
  },
  "language_info": {
   "name": "python",
   "version": "3.12.3"
  }
 },
 "nbformat": 4,
 "nbformat_minor": 2
}

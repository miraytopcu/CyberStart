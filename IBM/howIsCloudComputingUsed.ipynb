{
 "cells": [
  {
   "cell_type": "markdown",
   "metadata": {},
   "source": [
    "Bulutun avantajlarını üç ifade ile özetleyebiliriz: esneklik, verimlilik ve stratejik değer:\n",
    "\n",
    "### Esneklik \n",
    "- Kullanıcılar, ihtiyaçları doğrultusunda bulut hizmetlerini ölçeklendirebilir, uygulamaları özelleştirebilir ve herhangi bir zamanda, herhangi bir yerden çalışmak için İnternet'e erişebilirler.\n",
    "\n",
    "### Verimlilik \n",
    "- Kurumsal kullanıcılar, yüksek altyapı veya bakım maliyetleri konusunda endişe etmeksizin, uygulamaları hızla pazara sunabilirler.\n",
    "\n",
    "### Stratejik değer \n",
    "- Bulut hizmetleri, işletmelerin en güncel teknoloji ile rekabet etmesine yardımcı olur."
   ]
  },
  {
   "cell_type": "markdown",
   "metadata": {},
   "source": [
    "# Hizmet olarak sunulan yazılım (SaaS)\n",
    "SaaS'nin bir yazılım dağıtım modeli olduğunu ve bu modelde bir üçüncü kişi sağlayıcının uygulamaları barındırdığını ve müşterilere İnternet üzerinden sağladığını hatırlayın.\n",
    "\n",
    "Bulut bilişim, SaaS modelinde tüketicilerin ve işletmelerin uygulamaları yerel olarak kurmadan kullanmalarına ve kişisel dosyalara İnternet aracılığıyla herhangi bir bilgisayardan erişmelerine olanak sağlar. Bu, depolamayı, belleği, işlemleri ve bant genişliğini merkezileştirmesi sayesinde bilişimi daha verimli hale getirir.\n",
    "\n",
    "Bu hayatınızı nasıl değiştiriyor?\n",
    "E-posta için Gmail'e bakıyorsunuz, resimleri DropBox'a yüklüyorsunuz, iTunes'dan müzik satın alıyorsunuz, dosyaları Google Drive'da depoluyorsunuz, Office 365 veya Photoshop gibi yazılımlarla yaratıyorsunuz, Webex ile görüntülü toplantılara katılıyorsunuz veya seyahatlerinizi Expedia ile planlıyorsunuz. Bu hizmetler, tüketicileri (yani sizi!) işletmelere bağlar.\n",
    "\n",
    "# Hizmet olarak sunulan platform (PaaS)\n",
    "Bir PaaS satıcı firması, donanım ve yazılım araçlarını İnternet üzerinden sağlar ve insanlar, bu araçları uygulama geliştirmek için kullanırlar. PaaS, en çok yazılım uygulamaları oluşturan geliştiriciler için önem taşır. PaaS, yeni uygulamalarını geliştirmek veya çalıştırmak için kullanacakları donanımı ve yazılımları şirket içinde kurma gereksinimini ortadan kaldırır.\n",
    "\n",
    "PaaS, daha düşük sıklıkla kullanmanız nedeniyle, kişisel olarak üzerinizde daha az etkiye sahiptir.\n",
    "Ancak, IBM, Google, Amazon ve Microsoft gibi şirketlerin hepsi, geliştiricilerin uygulamaları bulut üzerinde hızla geliştirmek ve devreye almak için kullanabilecekleri PaaS olanaklarına sahiptir. Geliştiriciler, yalnızca erişimi ve testleri çok daha kolay hale getirmesi nedeniyle değil, aynı zamanda bu uygulamaları çalıştıran altyapıya yatırım yapmak ya da altyapının nasıl yönetileceğini öğrenmek zorunda olmadıkları için bunu çok severler. Peki bu şirketlerin Nesnelerin İnternetinden alışverişe, elektronikten kreatif yazılımlara kadar geliştirdikleri şeyler? Onları da şu anda bu metni okurken tecrübe ediyorsunuz.\n",
    "\n",
    "# Hizmet olarak sunulan altyapı (IaaS)\n",
    "IaaS, kullandığın kadar öde şeklinde ücretlendirilen depolama, ağ, sunucular ve sanallaştırma gibi hizmetler sunar. IaaS, şirket içi altyapı için kullanıcılara bulut tabanlı alternatifler sunar, böylece işletmeler pahalı şirket içi kaynaklara yatırım yapmaktan kaçınabilirler.\n",
    "\n",
    "Bu, özellikle küçük ve orta ölçekli işletmeler bakımından kullanışlıdır! Kendi fiziksel sunucularının bakımını gerçekleştirmenin yüksek maliyeti olmaksızın, ihtiyaçlarını karşılayan bir barındırma planı için ödeme yapmalarına olanak sağlar.\n",
    "\n",
    "Bu sizi kişisel olarak nasıl etkiliyor?\n",
    "Mahallenizde bulunan ve yarı zamanlı ya da tam zamanlı bir çalışanını tanıdığınız bir işletmeye uğrayın. Operasyonlarının hangi bölümünün bir İnternet bağlantısı gerektirdiğini sorun. Ardından kendinize şunu sorun, bu işletme sizin veya tanıdığınız insanların yaşamlarına nasıl dokunuyor?\n"
   ]
  },
  {
   "cell_type": "markdown",
   "metadata": {},
   "source": []
  }
 ],
 "metadata": {
  "kernelspec": {
   "display_name": "Python 3",
   "language": "python",
   "name": "python3"
  },
  "language_info": {
   "name": "python",
   "version": "3.12.3"
  }
 },
 "nbformat": 4,
 "nbformat_minor": 2
}

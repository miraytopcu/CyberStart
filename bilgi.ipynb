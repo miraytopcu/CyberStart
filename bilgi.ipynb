{
 "cells": [
  {
   "cell_type": "markdown",
   "metadata": {},
   "source": [
    "# 1\n",
    "\n",
    "\"Statik\" ve \"Dinamik\" kelimeleri, programlama dilinin türünü belirler ve kodun nasıl çalıştırıldığına işaret eder.\n",
    "\n",
    "### Statik Tip\n",
    "\n",
    "\n",
    "Statik tipte, değişkenlerin türleri, değişkenler oluşturulurken belirlenir ve programın çalışma zamanı boyunca değiştirilemez. Bu, hataları daha erken yakalamamızı sağlar ve derleyici optimizasyonlarına olanak sağlar. Java, C, C++ ve Swift statik tipli dillere örnek olarak verilebilir.\n",
    "\n",
    "### Dinamik Tip\n",
    "\n",
    "\n",
    "Dinamik tipte ise, değişkenlerin türü, programın çalışma zamanında belirlenir. Bu, daha az kod yazmamıza olanak sağlar ve daha esnek olmamızı sağlar. Ancak, bu esneklik tip hatalarını daha zor tespit edilebilir hale getirir. Python, Ruby, PHP ve JavaScript dinamik tipli dillere örnektir.\n",
    "\n",
    "### Generic Programlama Nedir?\n",
    "\n",
    "\n",
    "Generic programlama, kodun belirli türlere bağımlı olmadan çalışabilmesini sağlar. Bu, kodun tekrar kullanılabilirliğini artırır ve tip güvenliğini sağlar. Generic'ler, statik tipli dillerin esneklik kazanmasına yardımcı olur. Java, C#, Swift gibi dillerde Generic programlama kullanılır.\n",
    "\n",
    "**Temiz kod hakkında daha fazla bilgi almak için Robert C. Martin'in \"Clean Code\" kitabını okumanızı öneririm. Ayrıca “teknik borç(technical debt)” ifadesini de araştırmanız güzel olabilir.**\n",
    "\n"
   ]
  },
  {
   "cell_type": "markdown",
   "metadata": {},
   "source": [
    "# 2\n",
    "\n",
    "VCS, yazılım geliştirme sürecinde kullanılan bir sistemdir ve kodun değişikliklerini takip ederek kodun tarihçesini ve farklı sürümlerini yönetir. Diyelim ki bir yazılım geliştirme ekibi, bir proje üzerinde çalışıyor. Her ekip üyesi, kendi bilgisayarında projenin kodunu düzenliyor ve değişiklikler yapıyor. Ancak bu değişikliklerin birbirinden bağımsız şekilde yapılması, zamanla problemlere neden olabilir. Bir üyenin yaptığı değişiklikler, diğer üyelerin yaptığı değişiklikleri etkileyebilir veya karşıt olabilir. İşte tam burada VCS devreye girer.\n",
    "\n",
    "VCS, kodun tarihçesini takip ederek, değişikliklerin hangi tarihte, kim tarafından ve hangi nedenle yapıldığını kaydeder. Bu sayede, değişikliklerin geri alınması veya karşılaştırılması daha kolay olur. Örneğin, bir ekip üyesi projenin bir bölümünde yaptığı değişiklikleri beğenmez ve geri almak istediğinde, VCS sayesinde bu işlem kolayca gerçekleştirilebilir.\n",
    "\n",
    "Ayrıca, VCS, farklı sürümleri yönetir. Yeni bir değişiklik yapıldığında, VCS, projenin bir sonraki sürümünü oluşturur ve bu sürüme yeni değişiklikleri ekler. Bu sayede, proje farklı sürümleri ile yönetilebilir. Örneğin, bir uygulamanın eski sürümlerindeki hataların düzeltilebilmesi için VCS, bu sürümlerin korunmasını sağlar.\n",
    "\n",
    "Örnekleri başlıklar halinde toplayacak olursak:\n",
    "\n",
    "- Git: Git, özellikle açık kaynaklı yazılım projelerinde sıklıkla kullanılan bir VCS aracıdır. Projelerin kaynak kodlarının takip edilmesine ve değişikliklerin yönetilmesine yardımcı olur.\n",
    "\n",
    "- SVN: SVN (Subversion), bir diğer açık kaynaklı VCS aracıdır. Projelerin tarihçesini yönetir ve farklı sürümleri saklayarak geri dönüşümlü işlemler yapılmasına imkan tanır.\n",
    "\n",
    "- Mercurial: Mercurial, dağıtık bir VCS aracıdır. Projelerin kaynak kodlarını yönetmek ve farklı sürümlerini saklamak için kullanılır."
   ]
  },
  {
   "cell_type": "markdown",
   "metadata": {},
   "source": [
    "# 3\n",
    "\n",
    "Derleme dillerine örnek olarak C, C++, Java, C# ve Go gibi dilleri verebiliriz. Bu diller, kaynak kodunun derleyici tarafından makine koduna dönüştürülerek çalıştırıldığı dillerdir.\n",
    "\n",
    "Yorumlama dillerine örnek olarak Python, JavaScript, Ruby, PHP ve Perl gibi dilleri verebiliriz. Bu diller, kaynak kodunun yorumlayıcı tarafından satır satır okunarak çalıştırıldığı dillerdir."
   ]
  },
  {
   "cell_type": "markdown",
   "metadata": {},
   "source": [
    "# 4\n",
    "\n",
    "![image](https://patika-cohorts-prod.s3-eu-central-1.amazonaws.com/cohorts/ibm-ile-kodluyoruz-taslak/tasks/SBXWuEz79mnhM4QF9/9nQoXCF-1_WZHCM-NnpiF8Lb59i6i61A.webp)"
   ]
  },
  {
   "cell_type": "markdown",
   "metadata": {},
   "source": [
    "# 5\n",
    "\n",
    "### 🚀 Fonksiyonel Programlama:\n",
    "\n",
    "Fonksiyonel programlama (FP), programların seri olarak hesaplanmış fonksiyonlar olarak görüldüğü bir paradigmadır. Bu yaklaşımın bazı özellikleri şunlardır:\n",
    "\n",
    "- Yan etkisiz (pure) fonksiyonlar: Fonksiyonlar, girdilerine göre çıktılar üretir ve genellikle dış dünyayla etkileşimde bulunmazlar.\n",
    "\n",
    "- İlk-class fonksiyonlar: Fonksiyonlar, başka bir fonksiyonun çıktısı olarak kullanılabilir veya bir başka fonksiyonun girdisi olarak kullanılabilir.\n",
    "\n",
    "- Yüksek seviye fonksiyonlar: Map, reduce, filter gibi yüksek seviye fonksiyonlar genellikle kullanılır.\n",
    "\n",
    "- Özyineleme: Döngüler yerine genellikle özyineleme kullanılır.\n",
    "\n",
    "- C ve Lisp gibi diller, fonksiyonel programlamaya örnek olarak verilebilir.\n",
    "\n",
    "### 🔎 Nesne Tabanlı Programlama:\n",
    "\n",
    "Nesne tabanlı programlama (OOP), programları bir dizi birbiriyle etkileşimde bulunan nesneler olarak tasarlar. OOP'nin bazı özellikleri şunlardır:\n",
    "\n",
    "- Sınıflar ve nesneler: Veri ve fonksiyonları bir arada tutan nesneler ve bu nesnelerin şablonları olan sınıflar bulunur.\n",
    "\n",
    "- Kalıtım: Bir sınıfın özellikleri, başka bir sınıftan kalıtılarak yeniden kullanılabilir.\n",
    "\n",
    "- Enkapsülasyon: Nesne, veri ve davranışları (fonksiyonlar) bir araya getirerek veriyi dış dünyadan korur.\n",
    "\n",
    "- Polimorfizm: Nesneler, aynı arayüzü farklı şekillerde uygulayabilir.\n",
    "\n",
    "- Java, Python ve C++ gibi diller, nesne tabanlı programlamaya örnek olarak verilebilir."
   ]
  },
  {
   "cell_type": "markdown",
   "metadata": {},
   "source": [
    "# 6\n",
    "\n",
    "### 🔓 Açık Yazılım (Open Source): \n",
    "Açık Yazılım, kaynak kodunun herkese açık ve erişilebilir olduğu yazılım türüdür. Bu, yazılımın geliştirilmesi, değiştirilmesi ve dağıtılması için izin verir. Açık Yazılım, genellikle bir topluluk tarafından geliştirilir ve kaynak kodu herkesin inceleyebilmesi ve katkıda bulunabilmesi için yayınlanır. Açık Yazılım, şeffaflık, işbirliği ve yenilikçilik gibi değerlere dayanır. Örnekler: Linux işletim sistemi, Apache HTTP Server, Mozilla Firefox, Blender 3D modelleme yazılımı.\n",
    "\n",
    "### 🔐 Kapalı Yazılım (Closed Source): \n",
    "Kapalı Yazılım, kaynak kodunun geliştirici veya şirket tarafından gizli tutulduğu yazılım türüdür. Kullanıcılar, yazılımı kullanabilirler, ancak kaynak kodunu göremezler veya değiştiremezler. Kapalı Yazılım, genellikle ticari şirketler tarafından geliştirilir ve sadece belirli bir lisans altında kullanıcılar tarafından satın alınır veya lisanslanır. Örnekler: Microsoft Windows işletim sistemi, Adobe Photoshop, Microsoft Office paketi.\n",
    "\n",
    "### 🗽 Özgür Yazılım (Free Software): \n",
    "Özgür Yazılım, kullanıcıların yazılımı özgürce kullanma, inceleme, değiştirme ve dağıtma özgürlüğüne sahip olduğu yazılım türüdür. \"Özgür\" burada \"özgürlük\" anlamında kullanılır, maliyetle ilgili değildir. Özgür Yazılım, kullanıcıların kontrol ve esneklik sağlamayı amaçlar. Kaynak kodu genellikle herkese açıktır ve yazılımı kullanan herkes bu özgürlüklere sahiptir. Örnekler: GNU/Linux işletim sistemi, LibreOffice ofis paketi, GIMP grafik düzenleyici.\n",
    "\n",
    "❣️ Özgür Yazılım ve Açık Yazılım bazen karıştırılabilir, ancak aralarında bazı farklar vardır. Açık Yazılım, sadece kaynak kodunun açık olmasını gerektirirken, Özgür Yazılım, kullanıcılara belirli özgürlükleri sunar. Özgür Yazılım, kullanıcıların özgürce yazılımı kullanma, paylaşma ve değiştirme hakkına sahip olduğunu vurgular. Açık Yazılım genellikle Özgür Yazılım prensiplerini destekler, ancak her Açık Yazılım Özgür Yazılım olarak kabul edilmez.\n",
    "\n"
   ]
  },
  {
   "cell_type": "markdown",
   "metadata": {},
   "source": [
    "# 7\n",
    "\n"
   ]
  }
 ],
 "metadata": {
  "kernelspec": {
   "display_name": "Python 3",
   "language": "python",
   "name": "python3"
  },
  "language_info": {
   "name": "python",
   "version": "3.12.3"
  }
 },
 "nbformat": 4,
 "nbformat_minor": 2
}

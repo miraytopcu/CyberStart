{
 "cells": [
  {
   "cell_type": "code",
   "execution_count": null,
   "metadata": {},
   "outputs": [],
   "source": [
    "point = float(input(\"Enter 4 point with using escape: \"))\n",
    "points = []\n",
    "for i in point:\n",
    "    points.append(i)\n"
   ]
  }
 ],
 "metadata": {
  "language_info": {
   "name": "python"
  }
 },
 "nbformat": 4,
 "nbformat_minor": 2
}

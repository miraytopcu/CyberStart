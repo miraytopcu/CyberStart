{
 "cells": [
  {
   "cell_type": "code",
   "execution_count": 3,
   "metadata": {},
   "outputs": [
    {
     "name": "stdout",
     "output_type": "stream",
     "text": [
      "min euclidean distance between points:  5.0\n"
     ]
    }
   ],
   "source": [
    "import math\n",
    "\n",
    "def euclideanDistance(point1, point2):\n",
    "    return math.sqrt((point2[0] - point1[0]) ** 2 + (point2[1] - point1[1]) ** 2)\n",
    "\n",
    "points = []\n",
    "num_points = int(input(\"how many points will you enter: \"))\n",
    "\n",
    "for _ in range(num_points):\n",
    "    x = float(input(\"x coordinates: \"))\n",
    "    y = float(input(\"y coordinates: \"))\n",
    "    points.append((x,y))\n",
    "\n",
    "distances = []\n",
    "\n",
    "for i in range(len(points)):\n",
    "    for j in range(i + 1 , len(points)):\n",
    "        distance = euclideanDistance(points[i], points[j])\n",
    "        distances.append(distance)\n",
    "\n",
    "if distances:\n",
    "    minimum_distance = min(distances)\n",
    "    print(\"min euclidean distance between points: \", minimum_distance)\n",
    "else:\n",
    "    print(\"There is no distance to calculate. Please enter 2 points at least.\")"
   ]
  }
 ],
 "metadata": {
  "kernelspec": {
   "display_name": "Python 3",
   "language": "python",
   "name": "python3"
  },
  "language_info": {
   "codemirror_mode": {
    "name": "ipython",
    "version": 3
   },
   "file_extension": ".py",
   "mimetype": "text/x-python",
   "name": "python",
   "nbconvert_exporter": "python",
   "pygments_lexer": "ipython3",
   "version": "3.12.3"
  }
 },
 "nbformat": 4,
 "nbformat_minor": 2
}
